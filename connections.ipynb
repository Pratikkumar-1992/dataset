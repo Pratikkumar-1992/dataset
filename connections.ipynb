{
    "cells": [
        {
            "cell_type": "markdown",
            "metadata": {},
            "source": "# Monitor data replication between Db2 on Cloud and Event Streams\n\nThis notebook provides the code to monitor data replication between the Db2 on Cloud source and the Event Streams target. The code connects to the Event Streams service and prints the messages consumed by the service."
        },
        {
            "cell_type": "markdown",
            "metadata": {},
            "source": "# Install the kafka-python library\nThe code in the first cell intalls the kafka-python library."
        },
        {
            "cell_type": "code",
            "execution_count": null,
            "metadata": {},
            "outputs": [],
            "source": "pip install kafka-python"
        },
        {
            "cell_type": "markdown",
            "metadata": {},
            "source": "# Set your credentials\nThe code in the second cell includes the credentials and parameters to connect to your Event Streams service.\n\nEdit the variables in this cell using the information you saved to a text file from Task 1 of the *Replicate data* tutorial:\n- topics: Type `golden-bank-mortgage`.\n- bootstrap_servers: Paste the **bootstrap.servers** value from your text file.\n- sasl_plain_username: Paste the **user** value from the text file. This value is usually `token`.\n- security_protocol: Paste the **security.protocol** value from the text file. This value is usually `SASL_SSL`.\n- sasl_mechanism: Paste the **sasl.mechanism** value from the text file. This value is usually `PLAIN`.\n- sasl_plain_password: Paste the **password** value from the text file."
        },
        {
            "cell_type": "code",
            "execution_count": null,
            "metadata": {},
            "outputs": [],
            "source": "topics = ('golden-bank-mortgage')\nbootstrap_servers=('')\nsasl_plain_username=('token')\nsecurity_protocol=('SASL_SSL')\nsasl_mechanism=('PLAIN')\nsasl_plain_password=('')"
        },
        {
            "cell_type": "markdown",
            "metadata": {},
            "source": "# Set up the consumer\nThe code in the third cell imports the KafkaConsumer method from the Kafka library and sets the consumer variable based on the credentials and parameters specified in the second cell."
        },
        {
            "cell_type": "code",
            "execution_count": null,
            "metadata": {},
            "outputs": [],
            "source": "from kafka import KafkaConsumer\nimport json\nconsumer = KafkaConsumer(topics,bootstrap_servers=bootstrap_servers,sasl_plain_username=sasl_plain_username,sasl_plain_password=sasl_plain_password,security_protocol=security_protocol,sasl_mechanism=sasl_mechanism,auto_offset_reset='earliest')"
        },
        {
            "cell_type": "markdown",
            "metadata": {},
            "source": "# View output from the consumer\nThe code in the fourth cell prints the first 10 messages captured by the consumer. The Value field shows the applicant's information."
        },
        {
            "cell_type": "code",
            "execution_count": null,
            "metadata": {},
            "outputs": [],
            "source": "i=0\nfor msg in consumer:\n    print(\"Key:\", msg.key, sep=\"\\t\")\n    json_object = json.loads(msg.value)\n    json_formatted_str = json.dumps(json_object, indent=2)\n    print(\"Value:\", json_formatted_str, sep=\"\\t\")\n    print(\"Headers:\", msg.headers, \"\\n\")\n    i=i+1\n    if(i==10):\n        break;"
        }
    ],
    "metadata": {
        "kernelspec": {
            "display_name": "Python 3.10",
            "language": "python",
            "name": "python3"
        },
        "language_info": {
            "codemirror_mode": {
                "name": "ipython",
                "version": 3
            },
            "file_extension": ".py",
            "mimetype": "text/x-python",
            "name": "python",
            "nbconvert_exporter": "python",
            "pygments_lexer": "ipython3",
            "version": "3.10.9"
        }
    },
    "nbformat": 4,
    "nbformat_minor": 1
}